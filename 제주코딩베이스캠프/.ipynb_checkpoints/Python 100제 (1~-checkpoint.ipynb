{
 "cells": [
  {
   "cell_type": "markdown",
   "id": "d1dca303",
   "metadata": {},
   "source": [
    "# 문제1 : 리스트의 삭제\n",
    "\n",
    "다음 리스트에서 400, 500를 삭제하는 code를 입력하세요."
   ]
  },
  {
   "cell_type": "code",
   "execution_count": 2,
   "id": "2d73f906",
   "metadata": {},
   "outputs": [
    {
     "name": "stdout",
     "output_type": "stream",
     "text": [
      "[100, 200, 300]\n"
     ]
    }
   ],
   "source": [
    "nums = [100, 200, 300, 400, 500]\n",
    "\n",
    "# nums.remove(400)\n",
    "# nums.remove(500)\n",
    "nums.pop()\n",
    "nums.pop()\n",
    "print (nums)"
   ]
  },
  {
   "cell_type": "markdown",
   "id": "4de53d6b",
   "metadata": {},
   "source": [
    "# 문제2 : 리스트의 내장함수\n",
    "l = [200, 100, 300]\n",
    "<pass>\n",
    "print(l)\n",
    " - <pass>부분에 리스트 내장함수를 insert를 이용하여 코드를 입력하고 다음과 같이 출력되게 하세요.\n",
    "[200, 100, 10000, 300]"
   ]
  },
  {
   "cell_type": "code",
   "execution_count": 4,
   "id": "ce1f5f26",
   "metadata": {},
   "outputs": [
    {
     "name": "stdout",
     "output_type": "stream",
     "text": [
      "[200, 100, 10000, 300]\n"
     ]
    }
   ],
   "source": [
    "l = [200, 100, 300]\n",
    "l.insert(2,10000)\n",
    "print(l)"
   ]
  },
  {
   "cell_type": "markdown",
   "id": "e74c9d4d",
   "metadata": {},
   "source": [
    "# 문제3 : 변수의 타입\n",
    "\n",
    "- 다음 출력 값으로 올바른 것은?"
   ]
  },
  {
   "cell_type": "code",
   "execution_count": 5,
   "id": "3e7f0530",
   "metadata": {},
   "outputs": [
    {
     "name": "stdout",
     "output_type": "stream",
     "text": [
      "<class 'list'>\n"
     ]
    }
   ],
   "source": [
    "l = [100, 200, 300]\n",
    "print(type(l))\n",
    "# class 'list'"
   ]
  },
  {
   "cell_type": "markdown",
   "id": "505aaf16",
   "metadata": {},
   "source": [
    "# 문제4 : 변수의 타입2\n",
    "\n",
    "다음 변수 a를 print(type(a))로 넣었을 때 출력될 값과의 연결이 알맞지 않은 것은?\n",
    "\n",
    "1)  입력 : a =1,   출력 : class 'int'\n",
    "\n",
    "2)  입력 : a = 2.22,   출력 : class 'float'\n",
    "\n",
    "3)  입력 : a = 'p',   출력 : class 'char'\n",
    "\n",
    "4)  입력 : a = [1, 2, 3],   출력 : class 'list'\n",
    "\n",
    " - 3"
   ]
  },
  {
   "cell_type": "markdown",
   "id": "d4c6634f",
   "metadata": {},
   "source": [
    "# 문제5 : for문 계산\n",
    "\n",
    "- 다음 코드의 출력 값으로 알맞은 것은?"
   ]
  },
  {
   "cell_type": "code",
   "execution_count": 6,
   "id": "2b96524d",
   "metadata": {},
   "outputs": [
    {
     "name": "stdout",
     "output_type": "stream",
     "text": [
      "16\n"
     ]
    }
   ],
   "source": [
    "a = 10\n",
    "b = 2\n",
    "for i in range(1, 5, 2):\n",
    "    a += i\n",
    "\n",
    "print(a+b)"
   ]
  },
  {
   "cell_type": "markdown",
   "id": "028ba9a4",
   "metadata": {},
   "source": [
    "# 문제6 : False\n",
    "\n",
    "다음은 파이썬 문법 중에서 False로 취급하는 것들 입니다.\n",
    "앗, False로 취급하지 않는 것이 하나 있네요! **True를 찾아주세요.**\n",
    "\n",
    "1)  None\n",
    "2)  1\n",
    "3)  \"\"\n",
    "4)  0\n",
    "5)  bool(0)\n",
    "\n",
    " - 2"
   ]
  },
  {
   "cell_type": "markdown",
   "id": "7c722148",
   "metadata": {},
   "source": [
    "# 문제7 : 변수명\n",
    "\n",
    "다음 중 변수명으로 사용할 수 없는 것 2개를 고르시오.\n",
    "\n",
    "1)  age\n",
    "2)  a\n",
    "3)  as\n",
    "4)  _age\n",
    "5)  1age\n",
    "\n",
    "- 3, 5"
   ]
  },
  {
   "cell_type": "markdown",
   "id": "5876504a",
   "metadata": {},
   "source": [
    "# 문제8 : 딕셔너리 키 이름 중복\n",
    "\n",
    "딕셔너리를 다음과 같이 만들었다. \n",
    "출력값을 입력하시오. (출력값은 공백을 넣지 않습니다. )"
   ]
  },
  {
   "cell_type": "code",
   "execution_count": 7,
   "id": "83858ddd",
   "metadata": {},
   "outputs": [
    {
     "name": "stdout",
     "output_type": "stream",
     "text": [
      "84\n"
     ]
    }
   ],
   "source": [
    "d = {'height':180,'weight':78,'weight':84,'temparture':36,'eyesight':1}\n",
    "print(d['weight'])\n",
    "# 84"
   ]
  },
  {
   "cell_type": "markdown",
   "id": "8996ea11",
   "metadata": {},
   "source": [
    "# 문제9 : sep과 end를활용한 출력방법\n",
    "\n",
    "다음 소스 코드를 완성하여 날짜와 시간을 출력하시오."
   ]
  },
  {
   "cell_type": "code",
   "execution_count": 11,
   "id": "44ef2e4b",
   "metadata": {},
   "outputs": [
    {
     "name": "stdout",
     "output_type": "stream",
     "text": [
      "2019/04/26 11:34:27\n"
     ]
    }
   ],
   "source": [
    "year = '2019'\n",
    "month = '04'\n",
    "day = '26'\n",
    "hour = '11'\n",
    "minute = '34'\n",
    "second = '27'\n",
    "\n",
    "# print(year+\"/\"+\"/\"+month+\"/\"+day, end=\" \")\n",
    "# print(hour+\":\"+minute+\":\"+second)\n",
    "\n",
    "print(year, month, day, sep='/', end=' ')\n",
    "print(hour, minute, second, sep=':')\n",
    "\n",
    "# 2019/04/26 11:34:27"
   ]
  },
  {
   "cell_type": "markdown",
   "id": "a82f2250",
   "metadata": {},
   "source": [
    "# 문제10 : 별 찍기\n",
    "\n",
    "크리스마스 날, 은비는 친구들과 함께 파티를 하기로 했습니다. 그런데, 크리스마스 트리를 사는 것을 깜빡하고 말았습니다. 온 가게를 돌아다녀 봤지만 크리스마스 트리는 모두 품절이었습니다. \n",
    "하는 수 없이 은비는 프로그래밍으로 트리를 만들기로 합니다. \n",
    "\n",
    "**은비를 위해 프로그램을 작성해 주세요.**"
   ]
  },
  {
   "cell_type": "code",
   "execution_count": null,
   "id": "f3cfc091",
   "metadata": {},
   "outputs": [],
   "source": [
    "# 입력 : 5\n",
    "# 출력\n",
    "#     *\n",
    "#    ***\n",
    "#   *****\n",
    "#  *******\n",
    "# *********"
   ]
  },
  {
   "cell_type": "code",
   "execution_count": 20,
   "id": "776c2650",
   "metadata": {},
   "outputs": [
    {
     "name": "stdout",
     "output_type": "stream",
     "text": [
      "     *    \n",
      "    ***   \n",
      "   *****  \n",
      "  ******* \n",
      " *********\n"
     ]
    }
   ],
   "source": [
    "n=5\n",
    "for i in range(n):\n",
    "    for j in range(0,n*2):\n",
    "        if n-i <=j<= n+i:\n",
    "            print (\"*\", end=\"\")\n",
    "        else:\n",
    "            print (\" \", end=\"\")\n",
    "    print (\"\")"
   ]
  },
  {
   "cell_type": "code",
   "execution_count": 24,
   "id": "1d5a2540",
   "metadata": {},
   "outputs": [
    {
     "name": "stdout",
     "output_type": "stream",
     "text": [
      "5\n",
      "    *\n",
      "   ***\n",
      "  *****\n",
      " *******\n",
      "*********\n"
     ]
    }
   ],
   "source": [
    "n = int(input())\n",
    "for i in range(1,n+1):\n",
    "    print(\" \"*(n-i)+(\"*\"*(2*i-1)))"
   ]
  },
  {
   "cell_type": "markdown",
   "id": "3db03eb2",
   "metadata": {},
   "source": [
    "# 문제11 : for를 이용한 기본 활용\n",
    "\n",
    "1부터 100까지 모두 더하는 Code를 <pass> 부분에 완성하세요. for를 사용해야 합니다."
   ]
  },
  {
   "cell_type": "code",
   "execution_count": 26,
   "id": "ae19206d",
   "metadata": {},
   "outputs": [
    {
     "name": "stdout",
     "output_type": "stream",
     "text": [
      "5050\n"
     ]
    }
   ],
   "source": [
    "s = 0\n",
    "\n",
    "for i in range(101):\n",
    "    s +=i\n",
    "\n",
    "print(s)"
   ]
  }
 ],
 "metadata": {
  "kernelspec": {
   "display_name": "Python 3 (ipykernel)",
   "language": "python",
   "name": "python3"
  },
  "language_info": {
   "codemirror_mode": {
    "name": "ipython",
    "version": 3
   },
   "file_extension": ".py",
   "mimetype": "text/x-python",
   "name": "python",
   "nbconvert_exporter": "python",
   "pygments_lexer": "ipython3",
   "version": "3.9.12"
  },
  "toc": {
   "base_numbering": 1,
   "nav_menu": {},
   "number_sections": true,
   "sideBar": true,
   "skip_h1_title": false,
   "title_cell": "Table of Contents",
   "title_sidebar": "Contents",
   "toc_cell": false,
   "toc_position": {},
   "toc_section_display": true,
   "toc_window_display": false
  }
 },
 "nbformat": 4,
 "nbformat_minor": 5
}
