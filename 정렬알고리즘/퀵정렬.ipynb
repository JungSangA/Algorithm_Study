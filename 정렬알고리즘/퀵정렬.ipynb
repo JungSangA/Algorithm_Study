{
 "cells": [
  {
   "cell_type": "code",
   "execution_count": 3,
   "metadata": {},
   "outputs": [
    {
     "name": "stdout",
     "output_type": "stream",
     "text": [
      "[6, 7, 5, 4, 2, 3, 1, 10, 5, 9]\n",
      "[1, 2, 3, 4, 5, 5, 6, 7, 9, 10]\n"
     ]
    }
   ],
   "source": [
    "def sort(array):\n",
    "    if len(array) <=1:\n",
    "        return array\n",
    "    pivot = array[0]\n",
    "    tail = array[1:]\n",
    "    \n",
    "    left_side = [x for x in tail if x <= pivot]\n",
    "    right_side = [x for x in tail if x > pivot]\n",
    "    \n",
    "    return sort(left_side) + [pivot] + sort(right_side)\n",
    "\n",
    "array = [6,7,5,4,2,3,1,10,5,9]\n",
    "print (array)\n",
    "print (sort(array))\n",
    "\n"
   ]
  }
 ],
 "metadata": {
  "kernelspec": {
   "display_name": "Python 3.9.7 ('base')",
   "language": "python",
   "name": "python3"
  },
  "language_info": {
   "codemirror_mode": {
    "name": "ipython",
    "version": 3
   },
   "file_extension": ".py",
   "mimetype": "text/x-python",
   "name": "python",
   "nbconvert_exporter": "python",
   "pygments_lexer": "ipython3",
   "version": "3.9.7"
  },
  "orig_nbformat": 4,
  "vscode": {
   "interpreter": {
    "hash": "d6fa6f11c84bbbd831ad30e9dc360ff6d5b641b5a350a99116fa49d0372509ea"
   }
  }
 },
 "nbformat": 4,
 "nbformat_minor": 2
}
