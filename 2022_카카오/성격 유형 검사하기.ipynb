{
 "cells": [
  {
   "cell_type": "markdown",
   "metadata": {},
   "source": [
    "https://school.programmers.co.kr/learn/courses/30/lessons/118666"
   ]
  },
  {
   "cell_type": "code",
   "execution_count": null,
   "metadata": {},
   "outputs": [],
   "source": [
    "def solution(survey, choices):\n",
    "    answer = \"\"\n",
    "    choices_dict = {\"R\": 0, \"T\": 0, \"C\": 0,\n",
    "                    \"F\": 0, \"J\": 0, \"M\": 0, \"A\": 0, \"N\": 0}\n",
    "    for i, j in zip(survey, choices):\n",
    "        if j > 4:\n",
    "            choices_dict[i[1]] += j-4\n",
    "        else:\n",
    "            choices_dict[i[0]] += 4-j\n",
    "    if choices_dict[\"R\"] >= choices_dict[\"T\"]:\n",
    "        answer += \"R\"\n",
    "    else:\n",
    "        answer += \"T\"\n",
    "    if choices_dict[\"C\"] >= choices_dict[\"F\"]:\n",
    "        answer += \"C\"\n",
    "    else:\n",
    "        answer += \"F\"\n",
    "    if choices_dict[\"J\"] >= choices_dict[\"M\"]:\n",
    "        answer += \"J\"\n",
    "    else:\n",
    "        answer += \"M\"\n",
    "    if choices_dict[\"A\"] >= choices_dict[\"N\"]:\n",
    "        answer += \"A\"\n",
    "    else:\n",
    "        answer += \"N\"\n",
    "    return answer\n"
   ]
  }
 ],
 "metadata": {
  "language_info": {
   "name": "python"
  },
  "orig_nbformat": 4
 },
 "nbformat": 4,
 "nbformat_minor": 2
}
