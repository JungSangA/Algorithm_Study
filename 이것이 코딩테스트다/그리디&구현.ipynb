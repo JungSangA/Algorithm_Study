{
 "cells": [
  {
   "cell_type": "markdown",
   "id": "8455ba2c",
   "metadata": {},
   "source": [
    "# 그리디(Greedy)\n",
    "- 당장 좋은 것만 선택하는 그리디\n",
    "- 탐욕법(욕심쟁이 알고리즘)\n",
    "- \"현재 상황에서 지금 당장 좋은 것만 고르는 방법\"\n",
    "- 현재의 선택이 나중에 미칠 영향을 고려하지 않음\n",
    "- ex) 거스름돈"
   ]
  },
  {
   "cell_type": "markdown",
   "id": "2f1987b9",
   "metadata": {},
   "source": [
    "## 큰 수의 법칙(p.92)"
   ]
  },
  {
   "cell_type": "code",
   "execution_count": null,
   "id": "f992c7b0",
   "metadata": {},
   "outputs": [],
   "source": [
    "n,m,k = map(int,input().split())\n",
    "arr = list(map(int,input().split()))\n",
    "\n",
    "arr.sort(reverse=True)\n",
    "\n",
    "cnt = 1\n",
    "answer = 0\n",
    "if arr[0] == arr[1]: # arr[0]과 arr[1]이 같을 때\n",
    "    answer = arr[0]*k\n",
    "else: # arr[0]과 arr[1]이 다를 때\n",
    "    for _ in range(m):\n",
    "        # k만큼 돌기\n",
    "        if cnt <=k:\n",
    "            answer += arr[0]\n",
    "            cnt +=1\n",
    "        else:\n",
    "            answer += arr[1]\n",
    "            cnt = 1\n",
    "    \n",
    "    \n",
    "print (answer)"
   ]
  },
  {
   "cell_type": "markdown",
   "id": "e438c5e6",
   "metadata": {},
   "source": [
    "## 숫자 카드 게임(p.96)"
   ]
  },
  {
   "cell_type": "code",
   "execution_count": null,
   "id": "1a0e2687",
   "metadata": {},
   "outputs": [],
   "source": [
    "import math\n",
    "row, col = input().split()\n",
    "num = -math.inf\n",
    "for _ in range(int(row)):\n",
    "    num = max(num,min(list(map(int,input().split()))))\n",
    "print (num)"
   ]
  },
  {
   "cell_type": "markdown",
   "id": "48b662d8",
   "metadata": {},
   "source": [
    "## 1이 될 때까지(p.99)"
   ]
  },
  {
   "cell_type": "code",
   "execution_count": null,
   "id": "a73e13de",
   "metadata": {},
   "outputs": [],
   "source": [
    "n,k = map(int,input().split())\n",
    "\n",
    "cnt = 0\n",
    "while True:\n",
    "    if n%k == 0:\n",
    "        cnt+=1\n",
    "        n = n/k\n",
    "    else:\n",
    "        cnt+=1\n",
    "        n -=1\n",
    "    if n==1:\n",
    "        break\n",
    "print (cnt)"
   ]
  },
  {
   "cell_type": "markdown",
   "id": "a4e27e1d",
   "metadata": {},
   "source": [
    "# 구현\n",
    "- 아이디어를 코드로 바꾸는 구현\n",
    "- 문제 -> 아이디어 -> 풀이\n",
    "\n",
    "- 완전 탐색 : 모든 경우의 수를 주저없이 다 계산하는 해결방법\n",
    "- 시물레이션 : 문제에서 제시한 알고리즘을 한 단계씩 차례대로 직접 수행하는 방법"
   ]
  },
  {
   "cell_type": "markdown",
   "id": "25656b28",
   "metadata": {},
   "source": [
    "## 상하좌우(p.110)"
   ]
  },
  {
   "cell_type": "code",
   "execution_count": 21,
   "id": "f8618193",
   "metadata": {},
   "outputs": [
    {
     "name": "stdout",
     "output_type": "stream",
     "text": [
      "5\n",
      "R R R U D D\n",
      "3 4\n"
     ]
    }
   ],
   "source": [
    "n = int(input())\n",
    "move = input().split()\n",
    "\n",
    "answer = [1,1]\n",
    "for i in move:\n",
    "    if i == \"U\" and answer[0] > 1 :\n",
    "        answer[0]-=1\n",
    "    elif i ==\"D\" and answer[0] < n:\n",
    "        answer[0]+=1\n",
    "    elif i == \"L\" and answer[1] > 1:\n",
    "        answer[1]-=1\n",
    "    elif i == \"R\" and answer[1] < n:\n",
    "        answer[1]+=1\n",
    "print (' '.join(map(str,answer)))"
   ]
  },
  {
   "cell_type": "markdown",
   "id": "abba6125",
   "metadata": {},
   "source": [
    "## 시각(p.113)"
   ]
  },
  {
   "cell_type": "code",
   "execution_count": 32,
   "id": "4f59905e",
   "metadata": {},
   "outputs": [
    {
     "name": "stdout",
     "output_type": "stream",
     "text": [
      "5\n",
      "11475\n"
     ]
    }
   ],
   "source": [
    "n = int(input())\n",
    "cnt = 0\n",
    "for i in range(n+1):\n",
    "    for j in range(60):\n",
    "        for z in range(60):\n",
    "#             if i == n or j == n or z == n :\n",
    "            if '3' in list(str(i)) or str(n) in list(str(j)) or str(n) in list(str(z)):\n",
    "                cnt+=1\n",
    "print (cnt)"
   ]
  },
  {
   "cell_type": "markdown",
   "id": "19c798e1",
   "metadata": {},
   "source": [
    "## 왕실의 나이트(p.115)"
   ]
  },
  {
   "cell_type": "code",
   "execution_count": 47,
   "id": "ad404441",
   "metadata": {
    "scrolled": true
   },
   "outputs": [
    {
     "name": "stdout",
     "output_type": "stream",
     "text": [
      "c2\n",
      "6\n"
     ]
    }
   ],
   "source": [
    "rotate = input()\n",
    "col = {\"a\":1,\"b\":2,\"c\":3,\"d\":4,\"e\":5,\"f\":6,\"g\":7,\"h\":8}\n",
    "rotate = [int(rotate[1]),col[rotate[0]]]\n",
    "dx = [-2, -2, -1, -1, 1, 1, 2, 2]\n",
    "dy = [-1, 1, -2, 2, -2, 2, -1, 1]\n",
    "cnt = 0\n",
    "for x,y in zip(dx,dy):\n",
    "    rx = rotate[0]+x\n",
    "    ry = rotate[1]+y\n",
    "    if (rx >= 1 and rx <= 8) and (ry >= 1 and ry <= 8):\n",
    "        cnt +=1\n",
    "print (cnt)"
   ]
  },
  {
   "cell_type": "code",
   "execution_count": 50,
   "id": "c18b741c",
   "metadata": {},
   "outputs": [
    {
     "name": "stdout",
     "output_type": "stream",
     "text": [
      "122\n",
      "97\n"
     ]
    }
   ],
   "source": [
    "print (int(ord('')))\n",
    "print (int(ord('a')))"
   ]
  },
  {
   "cell_type": "markdown",
   "id": "85bf8fd8",
   "metadata": {},
   "source": [
    "## 게임 개발(p.118)"
   ]
  },
  {
   "cell_type": "code",
   "execution_count": 21,
   "id": "a532c098",
   "metadata": {},
   "outputs": [
    {
     "name": "stdout",
     "output_type": "stream",
     "text": [
      "4 4\n",
      "1 1 0\n",
      "1 1 1 1\n",
      "1 0 0 1\n",
      "1 1 0 1\n",
      "1 1 1 1\n",
      "3\n"
     ]
    }
   ],
   "source": [
    "# row*col 맵 생성\n",
    "n,m = map(int,input().split())\n",
    "# x,y 북0 동1 남2 서3\n",
    "x,y,d = map(int,input().split())\n",
    "# 지형arr 생성\n",
    "arr = []\n",
    "for _ in range(n):\n",
    "    arr.append(list(map(int,input().split())))\n",
    "    \n",
    "def solution(n,m,x,y,d,arr):\n",
    "    # 왼쪽방향으로 90도 회전한 후 갈 곳 탐색 함수 설정\n",
    "    def turn(d):\n",
    "        d -= 1\n",
    "        if d == -1:\n",
    "            d = 3\n",
    "        return d\n",
    "    # 방향에 따른 dx,dy 설정 d=idx\n",
    "    dx = [-1, 0, 1, 0]\n",
    "    dy = [0, -1, 0, 1]\n",
    "    turn_cnt = 0\n",
    "    answer = 1\n",
    "    \n",
    "    while True:\n",
    "        # 왼쪽방향으로 회전\n",
    "        d = turn(d)\n",
    "\n",
    "        # 가보지않는 칸 존재시 한칸 전진, 가보지않는 칸이 없을때, 왼쪽 방향으로 회전\n",
    "        rx = x+dx[d]\n",
    "        ry = y+dy[d]\n",
    "        if rx >= 0 and rx < n and ry>=0 and ry <m and arr[rx][ry] == 0:\n",
    "            arr[rx][ry] = 2\n",
    "            x,y=rx,ry\n",
    "            turn_cnt = 0\n",
    "            answer+=1\n",
    "            # 가본칸이거나 바다인 경우\n",
    "        else:\n",
    "            turn_cnt+=1\n",
    "\n",
    "        # 4번 회전을 했는데도 갈곳이없는 경우\n",
    "        if turn_cnt == 4:\n",
    "            x -= dx[d]\n",
    "            y -= dy[d]\n",
    "            turn_cnt = 0\n",
    "            # 뒷칸이 바다인 칸이라 뒤로 못갈경우\n",
    "            if arr[x][y] == 1:\n",
    "                return answer\n",
    "            \n",
    "print (solution(n,m,x,y,d,arr))\n"
   ]
  },
  {
   "cell_type": "code",
   "execution_count": 18,
   "id": "ce527b8d",
   "metadata": {},
   "outputs": [
    {
     "name": "stdout",
     "output_type": "stream",
     "text": [
      "3\n"
     ]
    }
   ],
   "source": []
  }
 ],
 "metadata": {
  "kernelspec": {
   "display_name": "Python 3 (ipykernel)",
   "language": "python",
   "name": "python3"
  },
  "language_info": {
   "codemirror_mode": {
    "name": "ipython",
    "version": 3
   },
   "file_extension": ".py",
   "mimetype": "text/x-python",
   "name": "python",
   "nbconvert_exporter": "python",
   "pygments_lexer": "ipython3",
   "version": "3.9.12"
  },
  "toc": {
   "base_numbering": 1,
   "nav_menu": {},
   "number_sections": true,
   "sideBar": true,
   "skip_h1_title": false,
   "title_cell": "Table of Contents",
   "title_sidebar": "Contents",
   "toc_cell": false,
   "toc_position": {},
   "toc_section_display": true,
   "toc_window_display": false
  }
 },
 "nbformat": 4,
 "nbformat_minor": 5
}
