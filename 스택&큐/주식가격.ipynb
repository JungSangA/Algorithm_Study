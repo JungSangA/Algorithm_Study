{
 "cells": [
  {
   "cell_type": "markdown",
   "metadata": {},
   "source": [
    "https://school.programmers.co.kr/learn/courses/30/lessons/42584"
   ]
  },
  {
   "cell_type": "code",
   "execution_count": null,
   "metadata": {},
   "outputs": [],
   "source": [
    "prices = [1, 2, 3, 2, 3]\t\n",
    "# [4, 3, 1, 1, 0]"
   ]
  },
  {
   "cell_type": "code",
   "execution_count": 46,
   "metadata": {},
   "outputs": [
    {
     "data": {
      "text/plain": [
       "[4, 3, 1, 1, 0]"
      ]
     },
     "execution_count": 46,
     "metadata": {},
     "output_type": "execute_result"
    }
   ],
   "source": [
    "# 정확도 통과 효율성 테스트 0/5\n",
    "def solution(prices):\n",
    "    answer = []\n",
    "    for i in range(len(prices)-1):\n",
    "        # print (prices[i], prices[i+1:])\n",
    "        tmp = prices[i+1:]\n",
    "        for j in range(len(tmp)):\n",
    "            # print (prices[i],tmp[j])\n",
    "            if prices[i] > tmp[j]:\n",
    "                # print (\"o\",j+1)\n",
    "                answer.append(j+1)\n",
    "                break\n",
    "            elif j == len(tmp)-1:\n",
    "                # print (\"o\",j+1)\n",
    "                answer.append(j+1)\n",
    "    answer.append(0)\n",
    "    return answer\n",
    "\n",
    "\n",
    "prices = [1, 2, 3, 2, 3]\n",
    "solution(prices)"
   ]
  },
  {
   "cell_type": "code",
   "execution_count": 69,
   "metadata": {},
   "outputs": [
    {
     "name": "stdout",
     "output_type": "stream",
     "text": [
      "{}\n",
      "{1: [0], 2: [1, 3], 3: [2, 4]}\n"
     ]
    },
    {
     "data": {
      "text/plain": [
       "[]"
      ]
     },
     "execution_count": 69,
     "metadata": {},
     "output_type": "execute_result"
    }
   ],
   "source": [
    "# 정확도 통과 효율성 테스트 0/5\n",
    "def solution(prices):\n",
    "    answer = []*len(prices)\n",
    "    tmp_list = {}\n",
    "    print (tmp_list)\n",
    "\n",
    "    for i in range(len(prices)):\n",
    "        if prices[i] in tmp_list:\n",
    "            tmp = tmp_list[prices[i]]\n",
    "            tmp.append(i)\n",
    "            tmp_list[prices[i]]=tmp\n",
    "        else:\n",
    "            tmp=[i]\n",
    "            tmp_list[prices[i]]=tmp\n",
    "    \n",
    "    \n",
    "    return answer\n",
    "\n",
    "\n",
    "prices = [1, 2, 3, 2, 3]\n",
    "solution(prices)"
   ]
  },
  {
   "cell_type": "code",
   "execution_count": 98,
   "metadata": {},
   "outputs": [
    {
     "name": "stdout",
     "output_type": "stream",
     "text": [
      "[2, 4]\n",
      "0\n",
      "0\n",
      "[1, 3]\n",
      "1\n",
      "1\n",
      "[0]\n",
      "0\n",
      "[0, 4, 0, 4, 0]\n"
     ]
    }
   ],
   "source": [
    "prices = [1, 2, 3, 2, 3]\n",
    "answer = [0]*len(prices)\n",
    "tmp_list = {1: [0], 2: [1, 3], 3: [2, 4]}\n",
    "for i in range(len(tmp_list),0,-1):\n",
    "    print (tmp_list[i])\n",
    "    t = tmp_list[i]\n",
    "    # print (len(t))\n",
    "    for j in range(len(t)-1,-1,-1):\n",
    "        if j == len(prices)-1:\n",
    "            answer[i]=0\n",
    "        else:\n",
    "            print (answer[i+1:].index(0))\n",
    "            if answer[i+1:].index(0) !=0:\n",
    "                answer[i] = answer[j+1:].index(0)\n",
    "            else:\n",
    "                answer[i]=len(prices)-1-j\n",
    "print (answer)"
   ]
  },
  {
   "cell_type": "code",
   "execution_count": 89,
   "metadata": {},
   "outputs": [
    {
     "data": {
      "text/plain": [
       "0"
      ]
     },
     "execution_count": 89,
     "metadata": {},
     "output_type": "execute_result"
    }
   ],
   "source": [
    "answer = [0]*8\n",
    "answer[3:].index(0)"
   ]
  },
  {
   "cell_type": "code",
   "execution_count": 68,
   "metadata": {},
   "outputs": [
    {
     "name": "stdout",
     "output_type": "stream",
     "text": [
      "{1: [1]}\n",
      "{1: [1, 2]}\n",
      "True\n"
     ]
    }
   ],
   "source": [
    "prices = [1,4, 5, 2, 3, 2, 3]\n",
    "prices[4:].count(4)\n",
    "\n",
    "# prices[4:].index(4)\n",
    "\n",
    "# print (prices)\n",
    "tmp_list={}\n",
    "tmp_list[1] = [1]\n",
    "print (tmp_list)\n",
    "tmp = tmp_list[1]\n",
    "tmp.append(2)\n",
    "tmp_list[1]=tmp\n",
    "print (tmp_list)\n",
    "print (1 in tmp_list)"
   ]
  },
  {
   "cell_type": "code",
   "execution_count": 57,
   "metadata": {},
   "outputs": [
    {
     "ename": "TypeError",
     "evalue": "'>' not supported between instances of 'list' and 'int'",
     "output_type": "error",
     "traceback": [
      "\u001b[1;31m---------------------------------------------------------------------------\u001b[0m",
      "\u001b[1;31mTypeError\u001b[0m                                 Traceback (most recent call last)",
      "\u001b[1;32m~\\AppData\\Local\\Temp/ipykernel_14872/1627236653.py\u001b[0m in \u001b[0;36m<module>\u001b[1;34m\u001b[0m\n\u001b[1;32m----> 1\u001b[1;33m \u001b[1;32mif\u001b[0m \u001b[1;33m[\u001b[0m\u001b[1;36m4\u001b[0m\u001b[1;33m,\u001b[0m\u001b[1;36m6\u001b[0m\u001b[1;33m,\u001b[0m\u001b[1;36m8\u001b[0m\u001b[1;33m]\u001b[0m \u001b[1;33m>\u001b[0m\u001b[1;36m2\u001b[0m\u001b[1;33m:\u001b[0m\u001b[1;33m\u001b[0m\u001b[1;33m\u001b[0m\u001b[0m\n\u001b[0m\u001b[0;32m      2\u001b[0m     \u001b[0mprint\u001b[0m \u001b[1;33m(\u001b[0m\u001b[1;34m\"o\"\u001b[0m\u001b[1;33m)\u001b[0m\u001b[1;33m\u001b[0m\u001b[1;33m\u001b[0m\u001b[0m\n",
      "\u001b[1;31mTypeError\u001b[0m: '>' not supported between instances of 'list' and 'int'"
     ]
    }
   ],
   "source": [
    "if [4,6,8] >2:\n",
    "    print (\"o\")"
   ]
  }
 ],
 "metadata": {
  "kernelspec": {
   "display_name": "Python 3.9.7 ('base')",
   "language": "python",
   "name": "python3"
  },
  "language_info": {
   "codemirror_mode": {
    "name": "ipython",
    "version": 3
   },
   "file_extension": ".py",
   "mimetype": "text/x-python",
   "name": "python",
   "nbconvert_exporter": "python",
   "pygments_lexer": "ipython3",
   "version": "3.9.7"
  },
  "orig_nbformat": 4,
  "vscode": {
   "interpreter": {
    "hash": "d6fa6f11c84bbbd831ad30e9dc360ff6d5b641b5a350a99116fa49d0372509ea"
   }
  }
 },
 "nbformat": 4,
 "nbformat_minor": 2
}
