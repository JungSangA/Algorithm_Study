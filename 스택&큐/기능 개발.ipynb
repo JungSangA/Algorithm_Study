{
 "cells": [
  {
   "cell_type": "markdown",
   "metadata": {},
   "source": [
    "https://school.programmers.co.kr/learn/courses/30/lessons/42586"
   ]
  },
  {
   "cell_type": "code",
   "execution_count": 2,
   "metadata": {},
   "outputs": [],
   "source": [
    "progresses= [93, 30, 55]\t\n",
    "speeds = [1, 30, 5]\t\n",
    "# [2, 1]\n",
    "progresses = [95, 90, 99, 99, 80, 99]\t\n",
    "speeds = [1, 1, 1, 1, 1, 1]\t\n",
    "# [1, 3, 2]"
   ]
  },
  {
   "cell_type": "code",
   "execution_count": 51,
   "metadata": {},
   "outputs": [
    {
     "data": {
      "text/plain": [
       "[2, 1]"
      ]
     },
     "execution_count": 51,
     "metadata": {},
     "output_type": "execute_result"
    }
   ],
   "source": [
    "import math\n",
    "def solution(progresses, speeds):\n",
    "    answer = []\n",
    "    time_list = []\n",
    "    cnt = 0\n",
    "    for i,j in zip(progresses, speeds):\n",
    "        time = math.ceil((100-i)/j)\n",
    "        time_list.append(time)\n",
    "    # print (time_list)\n",
    "    idx = 0\n",
    "    for i in range(len(time_list)):\n",
    "        # print (time_list[idx], time_list[i])\n",
    "        if time_list[idx] < time_list[i]:\n",
    "            # print (\"go\")\n",
    "            # print (i-idx)\n",
    "            answer.append(i-idx)\n",
    "            idx = i\n",
    "        if i == len(time_list)-1:\n",
    "            # print (\"go\")\n",
    "            # print (len(time_list)-idx)\n",
    "            answer.append(len(time_list)-idx)\n",
    "    return answer\n",
    "\n",
    "\n",
    "progresses= [93, 30, 55]\t\n",
    "speeds = [1, 30, 5]\t\n",
    "solution(progresses, speeds)\n"
   ]
  },
  {
   "cell_type": "code",
   "execution_count": 16,
   "metadata": {},
   "outputs": [
    {
     "name": "stdout",
     "output_type": "stream",
     "text": [
      "1\n"
     ]
    }
   ],
   "source": [
    "a = [1,2,3]\n",
    "print (a.pop(0))"
   ]
  },
  {
   "cell_type": "code",
   "execution_count": null,
   "metadata": {},
   "outputs": [],
   "source": []
  }
 ],
 "metadata": {
  "kernelspec": {
   "display_name": "Python 3.9.7 ('base')",
   "language": "python",
   "name": "python3"
  },
  "language_info": {
   "codemirror_mode": {
    "name": "ipython",
    "version": 3
   },
   "file_extension": ".py",
   "mimetype": "text/x-python",
   "name": "python",
   "nbconvert_exporter": "python",
   "pygments_lexer": "ipython3",
   "version": "3.9.7"
  },
  "orig_nbformat": 4,
  "vscode": {
   "interpreter": {
    "hash": "d6fa6f11c84bbbd831ad30e9dc360ff6d5b641b5a350a99116fa49d0372509ea"
   }
  }
 },
 "nbformat": 4,
 "nbformat_minor": 2
}
