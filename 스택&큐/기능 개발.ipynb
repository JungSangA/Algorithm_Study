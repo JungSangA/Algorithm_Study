{
 "cells": [
  {
   "cell_type": "markdown",
   "metadata": {},
   "source": [
    "https://school.programmers.co.kr/learn/courses/30/lessons/42586"
   ]
  },
  {
   "cell_type": "code",
   "execution_count": 2,
   "metadata": {},
   "outputs": [],
   "source": [
    "progresses= [93, 30, 55]\t\n",
    "speeds = [1, 30, 5]\t\n",
    "# [2, 1]\n",
    "progresses = [95, 90, 99, 99, 80, 99]\t\n",
    "speeds = [1, 1, 1, 1, 1, 1]\t\n",
    "# [1, 3, 2]"
   ]
  },
  {
   "cell_type": "code",
   "execution_count": 51,
   "metadata": {},
   "outputs": [
    {
     "data": {
      "text/plain": [
       "[2, 1]"
      ]
     },
     "execution_count": 51,
     "metadata": {},
     "output_type": "execute_result"
    }
   ],
   "source": [
    "import math\n",
    "def solution(progresses, speeds):\n",
    "    answer = []\n",
    "    time_list = []\n",
    "    cnt = 0\n",
    "    for i,j in zip(progresses, speeds):\n",
    "        time = math.ceil((100-i)/j)\n",
    "        time_list.append(time)\n",
    "    # print (time_list)\n",
    "    idx = 0\n",
    "    for i in range(len(time_list)):\n",
    "        if time_list[idx] < time_list[i]:\n",
    "            answer.append(i-idx)\n",
    "            idx = i\n",
    "        if i == len(time_list)-1:\n",
    "            answer.append(len(time_list)-idx)\n",
    "    return answer\n",
    "\n",
    "\n",
    "progresses= [93, 30, 55]\t\n",
    "speeds = [1, 30, 5]\t\n",
    "solution(progresses, speeds)\n"
   ]
  },
  {
   "cell_type": "code",
   "execution_count": 20,
   "metadata": {},
   "outputs": [
    {
     "data": {
      "text/plain": [
       "[1, 3, 2]"
      ]
     },
     "execution_count": 20,
     "metadata": {},
     "output_type": "execute_result"
    }
   ],
   "source": [
    "import math\n",
    "from collections import deque\n",
    "\n",
    "def solution(progresses, speeds):\n",
    "    answer = []\n",
    "    time_list = deque()\n",
    "    cnt = 1\n",
    "    ## 남은 일수 비교\n",
    "    for i, j in zip(progresses, speeds):\n",
    "        time = math.ceil((100-i)/j)\n",
    "        time_list.append(time)\n",
    "    # print (time_list)\n",
    "\n",
    "    # 초기값 설정\n",
    "    cur_progress = time_list.popleft()\n",
    "    while len(time_list) > 0:\n",
    "        next_progress=time_list.popleft()\n",
    "        # print (cur_progress,next_progress,len(time_list))\n",
    "        # 현재 대기열의 남은 일수와 다음 대기열의 남은 일수를 비교\n",
    "        if cur_progress >= next_progress:\n",
    "            cnt +=1\n",
    "        else:\n",
    "            answer.append(cnt)\n",
    "            cur_progress = next_progress\n",
    "            cnt = 1\n",
    "        # time_list의 마지막일 때 answer에 값 추가\n",
    "        if len(time_list)==0:\n",
    "            answer.append(cnt)\n",
    "    return answer\n",
    "\n",
    "\n",
    "progresses = [95, 90, 99, 99, 80, 99]\n",
    "speeds = [1, 1, 1, 1, 1, 1]\n",
    "solution(progresses, speeds)\n"
   ]
  }
 ],
 "metadata": {
  "kernelspec": {
   "display_name": "Python 3.9.7 ('base')",
   "language": "python",
   "name": "python3"
  },
  "language_info": {
   "codemirror_mode": {
    "name": "ipython",
    "version": 3
   },
   "file_extension": ".py",
   "mimetype": "text/x-python",
   "name": "python",
   "nbconvert_exporter": "python",
   "pygments_lexer": "ipython3",
   "version": "3.9.7"
  },
  "orig_nbformat": 4,
  "vscode": {
   "interpreter": {
    "hash": "d6fa6f11c84bbbd831ad30e9dc360ff6d5b641b5a350a99116fa49d0372509ea"
   }
  }
 },
 "nbformat": 4,
 "nbformat_minor": 2
}
