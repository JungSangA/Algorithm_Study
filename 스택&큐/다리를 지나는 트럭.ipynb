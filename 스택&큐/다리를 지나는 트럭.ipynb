{
 "cells": [
  {
   "cell_type": "markdown",
   "metadata": {},
   "source": [
    "https://school.programmers.co.kr/learn/courses/30/lessons/42583"
   ]
  },
  {
   "cell_type": "code",
   "execution_count": null,
   "metadata": {},
   "outputs": [],
   "source": [
    "bridge_length = 2\n",
    "weight = 10\t\n",
    "truck_weights = [7,4,5,6]\t\n",
    "# 8\n",
    "bridge_length = 100\t\n",
    "weight = 100\t\n",
    "truck_weights = [10]\t\n",
    "# 101\n",
    "bridge_length = 100\t\n",
    "weight = 100\t\n",
    "truck_weights = [10,10,10,10,10,10,10,10,10,10]\t\n",
    "# 110\n",
    "\n",
    "#다리에 올라갈 수 있는 트럭 수 bridge_length\n",
    "#다리가 견딜 수 있는 무게 weight\n",
    "#트럭 별 무게 truck_weights"
   ]
  },
  {
   "cell_type": "code",
   "execution_count": 51,
   "metadata": {},
   "outputs": [
    {
     "name": "stdout",
     "output_type": "stream",
     "text": [
      "4 7\n",
      "4 0\n",
      "5 4\n",
      "6 5\n",
      "6 0\n"
     ]
    },
    {
     "data": {
      "text/plain": [
       "8"
      ]
     },
     "execution_count": 51,
     "metadata": {},
     "output_type": "execute_result"
    }
   ],
   "source": [
    "# 3개 시간초과\n",
    "\n",
    "def solution(bridge_length, weight, truck_weights):\n",
    "    answer = 0\n",
    "    tmp_list = [0]*bridge_length\n",
    "    idx = 0\n",
    "    cnt = 1\n",
    "    tmp_list[0] = truck_weights.pop(0)\n",
    "    while True:\n",
    "        if tmp_list.count(0) == len(tmp_list) and len(truck_weights) ==0:\n",
    "            break\n",
    "        \n",
    "        for i in range(len(tmp_list)-1,-1,-1):\n",
    "            if i == 0:\n",
    "                tmp_list[i] = 0\n",
    "            else:\n",
    "                tmp_list[i] = tmp_list[i-1] \n",
    "        if len(truck_weights) !=0:\n",
    "            if truck_weights[0]+sum(tmp_list) > weight:\n",
    "                tmp_list[0] = 0\n",
    "            elif truck_weights[0]+sum(tmp_list) <= weight:\n",
    "                    tmp_list[0] = truck_weights.pop(0)\n",
    "        cnt+=1\n",
    "    return cnt\n",
    "\n",
    "\n",
    "\n",
    "bridge_length = 2\n",
    "weight = 10\t\n",
    "truck_weights = [7,4,5,6]\t\n",
    "# 8\n",
    "solution(bridge_length, weight, truck_weights)"
   ]
  },
  {
   "cell_type": "code",
   "execution_count": 57,
   "metadata": {},
   "outputs": [
    {
     "data": {
      "text/plain": [
       "8"
      ]
     },
     "execution_count": 57,
     "metadata": {},
     "output_type": "execute_result"
    }
   ],
   "source": [
    "# 통과 \n",
    "# -> 해결방안 : list(sum) 함수 시간오래걸림\n",
    "#              bridge_sum 변수 만들어서 더하고 빼고로 해결     \n",
    "def solution(bridge_length, weight, truck_weights):\n",
    "    tmp_list = [0]*bridge_length\n",
    "    cnt=0\n",
    "    while True:\n",
    "        # 탈출 조건\n",
    "        if len(tmp_list)==0:\n",
    "            break\n",
    "        \n",
    "        if len(truck_weights) !=0:\n",
    "            tmp_list.pop(0)\n",
    "            if truck_weights[0] + sum(tmp_list) > weight:\n",
    "                tmp_list.append(0)\n",
    "            else:\n",
    "                tmp_list.append(truck_weights.pop(0))\n",
    "        else:\n",
    "            tmp_list.pop(0)\n",
    "        cnt+=1\n",
    "\n",
    "    return cnt\n",
    "\n",
    "bridge_length = 2\n",
    "weight = 10\t\n",
    "truck_weights = [7,4,5,6]\t\n",
    "# 8\n",
    "solution(bridge_length, weight, truck_weights)"
   ]
  },
  {
   "cell_type": "code",
   "execution_count": 60,
   "metadata": {},
   "outputs": [
    {
     "name": "stdout",
     "output_type": "stream",
     "text": [
      "[0, 7]\n",
      "[7, 0]\n",
      "[0, 4]\n",
      "[4, 5]\n",
      "[5, 0]\n",
      "[0, 6]\n",
      "[6]\n",
      "[]\n"
     ]
    },
    {
     "data": {
      "text/plain": [
       "8"
      ]
     },
     "execution_count": 60,
     "metadata": {},
     "output_type": "execute_result"
    }
   ],
   "source": [
    "def solution(bridge_length, weight, truck_weights):\n",
    "    tmp_list = [0]*bridge_length\n",
    "    cnt = 0\n",
    "    bridge_sum = 0\n",
    "    while True:\n",
    "        # 탈출 조건\n",
    "        if len(tmp_list) == 0:\n",
    "            break\n",
    "\n",
    "        if len(truck_weights) != 0:\n",
    "           \t# 다리 위에 있는 트럭 중 앞에 있는 트럭의 무게 빼기\n",
    "            bridge_sum -= tmp_list.pop(0)\n",
    "            # 다리 위에 새로운 트럭이 올라갔을 때 무게 중량 초과여부 판별\n",
    "            if truck_weights[0] + bridge_sum > weight:\n",
    "                tmp_list.append(0)\n",
    "            else:\n",
    "     \t        # 다리 위에 새로운 트럭이 올라갔으므로 트럭의 무게 추가\n",
    "                bridge_sum += truck_weights[0]\n",
    "                tmp_list.append(truck_weights.pop(0))\n",
    "        else:\n",
    "            tmp_list.pop(0)\n",
    "        # print (tmp_list)\n",
    "        cnt += 1\n",
    "\n",
    "    return cnt\n",
    "\n",
    "bridge_length = 2\n",
    "weight = 10\t\n",
    "truck_weights = [7,4,5,6]\t\n",
    "# 8\n",
    "solution(bridge_length, weight, truck_weights)"
   ]
  },
  {
   "cell_type": "code",
   "execution_count": null,
   "metadata": {},
   "outputs": [],
   "source": []
  },
  {
   "cell_type": "code",
   "execution_count": 26,
   "metadata": {},
   "outputs": [
    {
     "name": "stdout",
     "output_type": "stream",
     "text": [
      "3\n",
      "2\n",
      "1\n"
     ]
    }
   ],
   "source": [
    "a = [0,0,0]\n",
    "for i in range(len(a),0,-1):\n",
    "    print (i)"
   ]
  }
 ],
 "metadata": {
  "kernelspec": {
   "display_name": "Python 3.9.7 ('base')",
   "language": "python",
   "name": "python3"
  },
  "language_info": {
   "codemirror_mode": {
    "name": "ipython",
    "version": 3
   },
   "file_extension": ".py",
   "mimetype": "text/x-python",
   "name": "python",
   "nbconvert_exporter": "python",
   "pygments_lexer": "ipython3",
   "version": "3.9.7"
  },
  "orig_nbformat": 4,
  "vscode": {
   "interpreter": {
    "hash": "d6fa6f11c84bbbd831ad30e9dc360ff6d5b641b5a350a99116fa49d0372509ea"
   }
  }
 },
 "nbformat": 4,
 "nbformat_minor": 2
}
