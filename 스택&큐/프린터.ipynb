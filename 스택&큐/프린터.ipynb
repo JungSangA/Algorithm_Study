{
 "cells": [
  {
   "cell_type": "markdown",
   "metadata": {},
   "source": [
    "https://school.programmers.co.kr/learn/courses/30/lessons/42587"
   ]
  },
  {
   "cell_type": "code",
   "execution_count": 3,
   "metadata": {},
   "outputs": [],
   "source": [
    "priorities = [2, 1, 3, 2]\t\n",
    "location = 2\t\n",
    "#1\n",
    "priorities = [1, 1, 9, 1, 1, 1]\t\n",
    "location = 0\t\n",
    "#5"
   ]
  },
  {
   "cell_type": "code",
   "execution_count": 4,
   "metadata": {},
   "outputs": [
    {
     "data": {
      "text/plain": [
       "5"
      ]
     },
     "execution_count": 4,
     "metadata": {},
     "output_type": "execute_result"
    }
   ],
   "source": [
    "def solution(priorities, location):\n",
    "    answer = 0\n",
    "    # idx_list만들기\n",
    "    idx_list =[]\n",
    "    for idx in range(len(priorities)):\n",
    "        idx_list.append(idx)\n",
    "    priorities_copy = priorities.copy()\n",
    "    idx = 0\n",
    "    while idx < len(priorities)-1:\n",
    "        if priorities_copy[idx] < max(priorities_copy[idx+1:]):\n",
    "            idx_list.append(idx_list.pop(idx))\n",
    "            priorities_copy.append(priorities_copy.pop(idx))\n",
    "        else:\n",
    "            idx+=1\n",
    "    answer = idx_list.index(location)+1\n",
    "    return answer\n",
    "\n",
    "solution(priorities, location)"
   ]
  },
  {
   "cell_type": "code",
   "execution_count": 3,
   "metadata": {},
   "outputs": [
    {
     "name": "stdout",
     "output_type": "stream",
     "text": [
      "9\n",
      "8\n",
      "7\n",
      "6\n",
      "5\n",
      "4\n",
      "3\n",
      "2\n",
      "1\n"
     ]
    },
    {
     "data": {
      "text/plain": [
       "0"
      ]
     },
     "execution_count": 3,
     "metadata": {},
     "output_type": "execute_result"
    }
   ],
   "source": [
    "# 리스트 컴프리헨션, queue 특성 이용\n",
    "def solution(priorities, location):\n",
    "    answer = 0\n",
    "    queue = [[i, p] for i, p in enumerate(priorities)]\n",
    "    max_prioty = max(priorities)\n",
    "    while True:\n",
    "        cur = queue.pop(0)\n",
    "        # 값이 가장 클 때\n",
    "        if cur[1] == max_prioty:\n",
    "            answer += 1\n",
    "            # max값 재설정\n",
    "            priorities.remove(max_prioty)\n",
    "            if len(priorities) != 0:\n",
    "                max_prioty = max(priorities)\n",
    "            # location 확인\n",
    "            if cur[0] == location:\n",
    "                return answer\n",
    "        # 큰 값이 아닐 때\n",
    "        else:\n",
    "            queue.append(cur)\n",
    "\n",
    "\n",
    "priorities = [1]\n",
    "location = 0\n",
    "print(solution(priorities, location))\n"
   ]
  }
 ],
 "metadata": {
  "kernelspec": {
   "display_name": "Python 3.9.7 ('base')",
   "language": "python",
   "name": "python3"
  },
  "language_info": {
   "codemirror_mode": {
    "name": "ipython",
    "version": 3
   },
   "file_extension": ".py",
   "mimetype": "text/x-python",
   "name": "python",
   "nbconvert_exporter": "python",
   "pygments_lexer": "ipython3",
   "version": "3.9.7"
  },
  "orig_nbformat": 4,
  "vscode": {
   "interpreter": {
    "hash": "d6fa6f11c84bbbd831ad30e9dc360ff6d5b641b5a350a99116fa49d0372509ea"
   }
  }
 },
 "nbformat": 4,
 "nbformat_minor": 2
}
