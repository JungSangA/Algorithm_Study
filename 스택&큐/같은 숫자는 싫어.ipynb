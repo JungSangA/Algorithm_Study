{
 "cells": [
  {
   "cell_type": "markdown",
   "metadata": {},
   "source": [
    "https://school.programmers.co.kr/learn/courses/30/lessons/12906"
   ]
  },
  {
   "cell_type": "code",
   "execution_count": 1,
   "metadata": {},
   "outputs": [],
   "source": [
    "arr = [1,1,3,3,0,1,1]\t# [1,3,0,1]\n",
    "arr = [4,4,4,3,3]\t# [4,3]"
   ]
  },
  {
   "cell_type": "code",
   "execution_count": 2,
   "metadata": {},
   "outputs": [
    {
     "data": {
      "text/plain": [
       "[1, 3, 0, 1]"
      ]
     },
     "execution_count": 2,
     "metadata": {},
     "output_type": "execute_result"
    }
   ],
   "source": [
    "# 스택을 통한 알고리즘\n",
    "def solution(arr):\n",
    "    answer = []\n",
    "    stack =[]\n",
    "    for i in arr:\n",
    "        if len(stack) ==0:\n",
    "            stack.append(i)\n",
    "        elif i != stack[-1]:\n",
    "            stack.append(i)\n",
    "    return stack\n",
    "\n",
    "\n",
    "arr = [1,1,3,3,0,1,1]\t# [1,3,0,1]\n",
    "solution(arr)"
   ]
  },
  {
   "cell_type": "code",
   "execution_count": null,
   "metadata": {},
   "outputs": [],
   "source": []
  }
 ],
 "metadata": {
  "kernelspec": {
   "display_name": "Python 3.9.7 ('base')",
   "language": "python",
   "name": "python3"
  },
  "language_info": {
   "codemirror_mode": {
    "name": "ipython",
    "version": 3
   },
   "file_extension": ".py",
   "mimetype": "text/x-python",
   "name": "python",
   "nbconvert_exporter": "python",
   "pygments_lexer": "ipython3",
   "version": "3.9.7"
  },
  "orig_nbformat": 4,
  "vscode": {
   "interpreter": {
    "hash": "d6fa6f11c84bbbd831ad30e9dc360ff6d5b641b5a350a99116fa49d0372509ea"
   }
  }
 },
 "nbformat": 4,
 "nbformat_minor": 2
}
