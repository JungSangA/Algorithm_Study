{
 "cells": [
  {
   "cell_type": "markdown",
   "metadata": {},
   "source": [
    "https://school.programmers.co.kr/learn/courses/30/lessons/42576\n",
    "\n",
    "완주하지 못한 선수 - 해시 -> 리스트 정렬 비교 break idx 검색 return"
   ]
  },
  {
   "cell_type": "code",
   "execution_count": 17,
   "metadata": {},
   "outputs": [],
   "source": [
    "\t\t\n",
    "participant = [\"leo\", \"kiki\", \"eden\"]\t\n",
    "completion= [\"eden\", \"kiki\"]\t# \"leo\"\n",
    "participant =[\"marina\", \"josipa\", \"nikola\", \"vinko\", \"filipa\"]\n",
    "completion=\t[\"josipa\", \"filipa\", \"marina\", \"nikola\"]\t# \"vinko\"\n",
    "participant =[\"mislav\", \"stanko\", \"mislav\", \"ana\"]\n",
    "completion=\t[\"stanko\", \"ana\", \"mislav\"]\t# \"mislav\"\n"
   ]
  },
  {
   "cell_type": "code",
   "execution_count": 34,
   "metadata": {},
   "outputs": [
    {
     "name": "stdout",
     "output_type": "stream",
     "text": [
      "mislav\n"
     ]
    }
   ],
   "source": [
    "# sort 이용\n",
    "def solution(participant, completion):\n",
    "    answer = 0\n",
    "    participant.sort()\n",
    "    completion.sort()\n",
    "    for i, j in zip(participant, completion):\n",
    "        if i != j:\n",
    "            break\n",
    "    return i\n",
    "\n",
    "participant = [\"mislav\", \"stanko\", \"mislav\", \"ana\"]\n",
    "completion = [\"stanko\", \"ana\", \"mislav\"]  # \"mislav\"\n",
    "print (solution(participant, completion))"
   ]
  },
  {
   "cell_type": "code",
   "execution_count": null,
   "metadata": {},
   "outputs": [],
   "source": [
    "# 해시 이용\n",
    "from collections import defaultdict\n",
    "\n",
    "def solution(participant, completion):\n",
    "    answer = 0\n",
    "    tmp_dic = defaultdict(int)\n",
    "    # 참가자 이름을 키값으로 동명이인 포함하여 인원 수를 value값으로 dict에 저장\n",
    "    for i in participant:\n",
    "        tmp_dic[i] += 1\n",
    "    # 완주자 이름을 키값으로 찾아서 value를 1제거\n",
    "    # (단, value값이 0이 되면 동명이인이 없는 것이므로 tmp_dic에서 제거)\n",
    "    for i in completion:\n",
    "        tmp_dic[i] -= 1\n",
    "        if tmp_dic[i] == 0:\n",
    "            del tmp_dic[i]\n",
    "    return list(tmp_dic)[0]\n",
    "\n",
    "\n",
    "participant = [\"mislav\", \"stanko\", \"mislav\", \"ana\"]\n",
    "completion = [\"stanko\", \"ana\", \"mislav\"]  # \"mislav\"\n",
    "print(solution(participant, completion))\n"
   ]
  },
  {
   "cell_type": "code",
   "execution_count": 11,
   "metadata": {},
   "outputs": [
    {
     "name": "stdout",
     "output_type": "stream",
     "text": [
      "mislav\n"
     ]
    }
   ],
   "source": []
  }
 ],
 "metadata": {
  "kernelspec": {
   "display_name": "Python 3.9.7 ('base')",
   "language": "python",
   "name": "python3"
  },
  "language_info": {
   "codemirror_mode": {
    "name": "ipython",
    "version": 3
   },
   "file_extension": ".py",
   "mimetype": "text/x-python",
   "name": "python",
   "nbconvert_exporter": "python",
   "pygments_lexer": "ipython3",
   "version": "3.9.7"
  },
  "orig_nbformat": 4,
  "vscode": {
   "interpreter": {
    "hash": "d6fa6f11c84bbbd831ad30e9dc360ff6d5b641b5a350a99116fa49d0372509ea"
   }
  }
 },
 "nbformat": 4,
 "nbformat_minor": 2
}
