{
 "cells": [
  {
   "cell_type": "markdown",
   "metadata": {},
   "source": [
    "https://school.programmers.co.kr/learn/courses/30/lessons/42576\n",
    "\n",
    "완주하지 못한 선수 - 해시 -> 리스트 정렬 비교 break idx 검색 return"
   ]
  },
  {
   "cell_type": "code",
   "execution_count": 17,
   "metadata": {},
   "outputs": [],
   "source": [
    "\t\t\n",
    "participant = [\"leo\", \"kiki\", \"eden\"]\t\n",
    "completion= [\"eden\", \"kiki\"]\t# \"leo\"\n",
    "participant =[\"marina\", \"josipa\", \"nikola\", \"vinko\", \"filipa\"]\n",
    "completion=\t[\"josipa\", \"filipa\", \"marina\", \"nikola\"]\t# \"vinko\"\n",
    "participant =[\"mislav\", \"stanko\", \"mislav\", \"ana\"]\n",
    "completion=\t[\"stanko\", \"ana\", \"mislav\"]\t# \"mislav\"\n"
   ]
  },
  {
   "cell_type": "code",
   "execution_count": 34,
   "metadata": {},
   "outputs": [
    {
     "name": "stdout",
     "output_type": "stream",
     "text": [
      "mislav\n"
     ]
    }
   ],
   "source": [
    "participant =[\"mislav\", \"stanko\", \"mislav\", \"ana\"]\n",
    "completion=\t[\"stanko\", \"ana\", \"mislav\"]\t# \"mislav\"\n",
    "# participant.sort()\n",
    "# completion.sort()\n",
    "# print (participant)\n",
    "# print (completion)\n",
    "def solution(participant, completion):\n",
    "    answer = 0\n",
    "    participant.sort()\n",
    "    completion.sort()\n",
    "    # completion.append(\"end\")\n",
    "    for i,j in zip(participant,completion):\n",
    "        if i != j: \n",
    "            break\n",
    "        answer +=1  \n",
    "    return (participant[answer])\n",
    "# solution(participant, completion)\n",
    "print (solution(participant, completion))"
   ]
  },
  {
   "cell_type": "code",
   "execution_count": null,
   "metadata": {},
   "outputs": [],
   "source": []
  }
 ],
 "metadata": {
  "kernelspec": {
   "display_name": "Python 3.9.7 ('base')",
   "language": "python",
   "name": "python3"
  },
  "language_info": {
   "codemirror_mode": {
    "name": "ipython",
    "version": 3
   },
   "file_extension": ".py",
   "mimetype": "text/x-python",
   "name": "python",
   "nbconvert_exporter": "python",
   "pygments_lexer": "ipython3",
   "version": "3.9.7"
  },
  "orig_nbformat": 4,
  "vscode": {
   "interpreter": {
    "hash": "d6fa6f11c84bbbd831ad30e9dc360ff6d5b641b5a350a99116fa49d0372509ea"
   }
  }
 },
 "nbformat": 4,
 "nbformat_minor": 2
}
