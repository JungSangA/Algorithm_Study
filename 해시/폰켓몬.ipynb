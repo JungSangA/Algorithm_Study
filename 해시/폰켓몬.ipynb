{
 "cells": [
  {
   "cell_type": "markdown",
   "metadata": {},
   "source": [
    "https://school.programmers.co.kr/learn/courses/30/lessons/1845"
   ]
  },
  {
   "cell_type": "code",
   "execution_count": null,
   "metadata": {},
   "outputs": [],
   "source": [
    "nums = [3,1,2,3]\t#2\n",
    "nums = [3,3,3,2,2,4]\t#3\n",
    "nums = [3,3,3,2,2,2]\t#2"
   ]
  },
  {
   "cell_type": "code",
   "execution_count": 19,
   "metadata": {},
   "outputs": [
    {
     "name": "stdout",
     "output_type": "stream",
     "text": [
      "3\n"
     ]
    }
   ],
   "source": [
    "def solution(nums):\n",
    "    max_n = int(len(nums)/2)\n",
    "    nums = set(nums)\n",
    "    answer = min(max_n,len(nums))\n",
    "    return answer\n",
    "\n",
    "nums = [3,3,3,2,2,4]\n",
    "print (solution(nums))"
   ]
  },
  {
   "cell_type": "code",
   "execution_count": 17,
   "metadata": {},
   "outputs": [
    {
     "name": "stdout",
     "output_type": "stream",
     "text": [
      "3\n",
      "2\n"
     ]
    }
   ],
   "source": [
    "nums = [3,3,3,2,2,2]\n",
    "max_n = int(len(nums)/2)\n",
    "nums = set(nums)\n",
    "result = min(max_n,len(nums))\n"
   ]
  }
 ],
 "metadata": {
  "kernelspec": {
   "display_name": "Python 3.9.7 ('base')",
   "language": "python",
   "name": "python3"
  },
  "language_info": {
   "codemirror_mode": {
    "name": "ipython",
    "version": 3
   },
   "file_extension": ".py",
   "mimetype": "text/x-python",
   "name": "python",
   "nbconvert_exporter": "python",
   "pygments_lexer": "ipython3",
   "version": "3.9.7"
  },
  "orig_nbformat": 4,
  "vscode": {
   "interpreter": {
    "hash": "d6fa6f11c84bbbd831ad30e9dc360ff6d5b641b5a350a99116fa49d0372509ea"
   }
  }
 },
 "nbformat": 4,
 "nbformat_minor": 2
}
