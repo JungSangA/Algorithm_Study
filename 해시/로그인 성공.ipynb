{
 "cells": [
  {
   "cell_type": "markdown",
   "metadata": {},
   "source": [
    "https://school.programmers.co.kr/learn/courses/30/lessons/120883"
   ]
  },
  {
   "cell_type": "code",
   "execution_count": null,
   "metadata": {},
   "outputs": [],
   "source": [
    "# for문을 통한 비교\n",
    "def solution(id_pw, db):\n",
    "    for i in db:\n",
    "        # id 여부 확인\n",
    "        if id_pw[0] in i:\n",
    "            if id_pw[1] == i[1]:\n",
    "                return \"login\"\n",
    "            else:\n",
    "                return \"wrong pw\"\n",
    "    return \"fail\"\n"
   ]
  },
  {
   "cell_type": "code",
   "execution_count": null,
   "metadata": {},
   "outputs": [],
   "source": [
    "# id를 key값으로 pw를 value값으로 dict로 만들어서 비교\n",
    "def solution(id_pw, db):\n",
    "    db_dict = {i[0]: i[1] for i in db}\n",
    "    # id 가 있을 때\n",
    "    if id_pw[0] in db_dict:\n",
    "        if id_pw[1] == db_dict[id_pw[0]]:\n",
    "            return \"login\"\n",
    "        else:\n",
    "            return \"wrong pw\"\n",
    "    # id가 없을 때\n",
    "    else:\n",
    "        return \"fail\"\n"
   ]
  }
 ],
 "metadata": {
  "kernelspec": {
   "display_name": "Python 3.9.7 ('base')",
   "language": "python",
   "name": "python3"
  },
  "language_info": {
   "codemirror_mode": {
    "name": "ipython",
    "version": 3
   },
   "file_extension": ".py",
   "mimetype": "text/x-python",
   "name": "python",
   "nbconvert_exporter": "python",
   "pygments_lexer": "ipython3",
   "version": "3.9.7"
  },
  "orig_nbformat": 4,
  "vscode": {
   "interpreter": {
    "hash": "d6fa6f11c84bbbd831ad30e9dc360ff6d5b641b5a350a99116fa49d0372509ea"
   }
  }
 },
 "nbformat": 4,
 "nbformat_minor": 2
}
