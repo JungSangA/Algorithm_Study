{
 "cells": [
  {
   "cell_type": "markdown",
   "metadata": {},
   "source": [
    "https://school.programmers.co.kr/learn/courses/30/lessons/42577"
   ]
  },
  {
   "cell_type": "code",
   "execution_count": null,
   "metadata": {},
   "outputs": [],
   "source": [
    "phone_book= [\"119\", \"97674223\", \"1195524421\"]\t#false\n",
    "phone_book=[\"123\",\"456\",\"789\"]\t#true\n",
    "phone_book=[\"12\",\"123\",\"1235\",\"567\",\"88\"]\t#false"
   ]
  },
  {
   "cell_type": "code",
   "execution_count": 29,
   "metadata": {},
   "outputs": [
    {
     "name": "stdout",
     "output_type": "stream",
     "text": [
      "False\n"
     ]
    }
   ],
   "source": [
    "def solution(phone_book):\n",
    "    phone_book.sort()\n",
    "\n",
    "    for i in range(len(phone_book)-1):\n",
    "         if phone_book[i] in phone_book[i+1][:len(phone_book)]:\n",
    "                return False\n",
    "    return True\n",
    "\n",
    "\n",
    "\n",
    "phone_book= [\"119\", \"97674223\", \"1195524421\"]\t#false\n",
    "print (solution(phone_book))"
   ]
  },
  {
   "cell_type": "code",
   "execution_count": null,
   "metadata": {},
   "outputs": [],
   "source": []
  }
 ],
 "metadata": {
  "kernelspec": {
   "display_name": "Python 3.9.7 ('base')",
   "language": "python",
   "name": "python3"
  },
  "language_info": {
   "codemirror_mode": {
    "name": "ipython",
    "version": 3
   },
   "file_extension": ".py",
   "mimetype": "text/x-python",
   "name": "python",
   "nbconvert_exporter": "python",
   "pygments_lexer": "ipython3",
   "version": "3.9.7"
  },
  "orig_nbformat": 4,
  "vscode": {
   "interpreter": {
    "hash": "d6fa6f11c84bbbd831ad30e9dc360ff6d5b641b5a350a99116fa49d0372509ea"
   }
  }
 },
 "nbformat": 4,
 "nbformat_minor": 2
}
