{
 "cells": [
  {
   "cell_type": "markdown",
   "metadata": {},
   "source": [
    "https://school.programmers.co.kr/learn/courses/30/lessons/120861"
   ]
  },
  {
   "cell_type": "code",
   "execution_count": 1,
   "metadata": {},
   "outputs": [],
   "source": [
    "def solution(keyinput, board):\n",
    "    col = board[0]\n",
    "    row = board[1]\n",
    "    result = [0, 0]\n",
    "    for i in keyinput:\n",
    "        if i == \"left\" and result[0]-1 >= -(col // 2):\n",
    "            result[0] -= 1\n",
    "        elif i == \"right\" and result[0]+1 <= (col // 2):\n",
    "            result[0] += 1\n",
    "        elif i == \"up\" and result[1]+1 <= (row // 2):\n",
    "            result[1] += 1\n",
    "        elif i == \"down\" and result[1]-1 >= -(row // 2):\n",
    "            result[1] -= 1\n",
    "    return result\n"
   ]
  }
 ],
 "metadata": {
  "kernelspec": {
   "display_name": "Python 3.9.7 ('base')",
   "language": "python",
   "name": "python3"
  },
  "language_info": {
   "codemirror_mode": {
    "name": "ipython",
    "version": 3
   },
   "file_extension": ".py",
   "mimetype": "text/x-python",
   "name": "python",
   "nbconvert_exporter": "python",
   "pygments_lexer": "ipython3",
   "version": "3.9.7"
  },
  "orig_nbformat": 4,
  "vscode": {
   "interpreter": {
    "hash": "d6fa6f11c84bbbd831ad30e9dc360ff6d5b641b5a350a99116fa49d0372509ea"
   }
  }
 },
 "nbformat": 4,
 "nbformat_minor": 2
}
