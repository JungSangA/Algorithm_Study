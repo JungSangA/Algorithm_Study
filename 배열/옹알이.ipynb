{
 "cells": [
  {
   "cell_type": "markdown",
   "id": "a6bda3dd",
   "metadata": {},
   "source": [
    "# 옹알이 (1)\n",
    "https://school.programmers.co.kr/learn/courses/30/lessons/120956"
   ]
  },
  {
   "cell_type": "code",
   "execution_count": 15,
   "id": "ce857a74",
   "metadata": {},
   "outputs": [],
   "source": [
    "def solution(babbling):\n",
    "    answer = 0\n",
    "    baby = [\"aya\", \"ye\", \"woo\", \"ma\"]\n",
    "    for i in babbling:\n",
    "        tmp =\"\"\n",
    "        for idx,j in enumerate(i):\n",
    "            # 옹알이 확인\n",
    "            tmp += j\n",
    "            # 2, 3개의 길이이며 발음 가능할 때\n",
    "            if (len(tmp) == 2 or len(tmp) == 3) and tmp in baby:\n",
    "                tmp =\"\"\n",
    "            # 길이가 4일때\n",
    "            elif len(tmp) == 4:\n",
    "                break\n",
    "                \n",
    "            if idx == len(i)-1 and tmp==\"\":\n",
    "                answer+=1\n",
    "    return answer"
   ]
  },
  {
   "cell_type": "markdown",
   "id": "14fd3570",
   "metadata": {},
   "source": [
    "# 옹알이 (2)\n",
    "https://school.programmers.co.kr/learn/courses/30/lessons/133499"
   ]
  },
  {
   "cell_type": "code",
   "execution_count": 16,
   "id": "c479b5bd",
   "metadata": {},
   "outputs": [],
   "source": [
    "def solution(babbling):\n",
    "    baby = [\"aya\", \"ye\", \"woo\", \"ma\"]\n",
    "    answer = 0\n",
    "    for i in babbling:\n",
    "        tmp, pre_tmp = \"\",\"\"\n",
    "        for idx, j in enumerate(i):\n",
    "            # 옹알이 확인\n",
    "            tmp += j\n",
    "            # 2, 3개의 길이이며 발음 가능하고,\n",
    "            # 연속적인 발음이 아닐경우\n",
    "            if (len(tmp) == 2 or len(tmp) == 3) and tmp in baby and pre_tmp != tmp:\n",
    "                pre_tmp = tmp \n",
    "                tmp =\"\"\n",
    "            # 길이가 4일때   \n",
    "            elif len(tmp) == 4:\n",
    "                break\n",
    "\n",
    "            if idx == len(i)-1 and tmp ==\"\":\n",
    "                answer+=1\n",
    "    return answer"
   ]
  }
 ],
 "metadata": {
  "kernelspec": {
   "display_name": "Python 3 (ipykernel)",
   "language": "python",
   "name": "python3"
  },
  "language_info": {
   "codemirror_mode": {
    "name": "ipython",
    "version": 3
   },
   "file_extension": ".py",
   "mimetype": "text/x-python",
   "name": "python",
   "nbconvert_exporter": "python",
   "pygments_lexer": "ipython3",
   "version": "3.9.12"
  },
  "toc": {
   "base_numbering": 1,
   "nav_menu": {},
   "number_sections": true,
   "sideBar": true,
   "skip_h1_title": false,
   "title_cell": "Table of Contents",
   "title_sidebar": "Contents",
   "toc_cell": false,
   "toc_position": {},
   "toc_section_display": true,
   "toc_window_display": false
  }
 },
 "nbformat": 4,
 "nbformat_minor": 5
}
