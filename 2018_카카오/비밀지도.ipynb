{
 "cells": [
  {
   "cell_type": "code",
   "execution_count": null,
   "metadata": {},
   "outputs": [],
   "source": [
    "def solution(n, arr1, arr2):\n",
    "    answer = []\n",
    "    result=\"\"\n",
    "    for i,j in zip(arr1, arr2):\n",
    "        result = str(bin(i|j)[2:].zfill(n))\n",
    "        result = result.replace(\"1\",\"#\")\n",
    "        result = result.replace(\"0\", \" \")\n",
    "        answer.append(result)   \n",
    "    return answer\n",
    "n=6\n",
    "arr1 = [46,33,33,22,31,50]\n",
    "arr2 = [27,56,19,14,14,10]\n",
    "print (solution(n,arr1,arr2))"
   ]
  }
 ],
 "metadata": {
  "kernelspec": {
   "display_name": "Python 3.9.7 ('base')",
   "language": "python",
   "name": "python3"
  },
  "language_info": {
   "codemirror_mode": {
    "name": "ipython",
    "version": 3
   },
   "file_extension": ".py",
   "mimetype": "text/x-python",
   "name": "python",
   "nbconvert_exporter": "python",
   "pygments_lexer": "ipython3",
   "version": "3.9.7"
  },
  "orig_nbformat": 4,
  "vscode": {
   "interpreter": {
    "hash": "d6fa6f11c84bbbd831ad30e9dc360ff6d5b641b5a350a99116fa49d0372509ea"
   }
  }
 },
 "nbformat": 4,
 "nbformat_minor": 2
}
