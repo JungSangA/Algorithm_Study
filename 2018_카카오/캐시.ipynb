{
 "cells": [
  {
   "cell_type": "markdown",
   "metadata": {},
   "source": [
    "https://school.programmers.co.kr/learn/courses/30/lessons/17680"
   ]
  },
  {
   "cell_type": "code",
   "execution_count": null,
   "metadata": {},
   "outputs": [],
   "source": [
    "def solution(cacheSize, cities):\n",
    "    answer = 0\n",
    "    cache = []\n",
    "    if cacheSize == 0:\n",
    "        return len(cities)*5\n",
    "\n",
    "    for city in cities:\n",
    "        city = city.upper()\n",
    "        if city in cache:\n",
    "            answer += 1\n",
    "            cache.remove(city)\n",
    "            cache.append(city)\n",
    "        else:\n",
    "            answer += 5\n",
    "            if len(cache) < cacheSize:\n",
    "                cache.append(city)\n",
    "            else:\n",
    "                cache.pop(0)\n",
    "                cache.append(city)\n",
    "    return answer\n"
   ]
  }
 ],
 "metadata": {
  "language_info": {
   "name": "python"
  },
  "orig_nbformat": 4
 },
 "nbformat": 4,
 "nbformat_minor": 2
}
