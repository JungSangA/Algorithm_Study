{
 "cells": [
  {
   "cell_type": "code",
   "execution_count": null,
   "id": "c091bd3b",
   "metadata": {},
   "outputs": [],
   "source": []
  },
  {
   "cell_type": "code",
   "execution_count": 55,
   "id": "0a7c40aa",
   "metadata": {},
   "outputs": [
    {
     "data": {
      "text/plain": [
       "[48, 40]"
      ]
     },
     "execution_count": 55,
     "metadata": {},
     "output_type": "execute_result"
    }
   ],
   "source": [
    "# 정확도 46.7% (소인수분해X)\n",
    "def solution(denum1, num1, denum2, num2):\n",
    "    answer = []\n",
    "    # 두 수가 배수관계일때.\n",
    "    if max(num1,num2)%min(num1,num2)==0:\n",
    "        tmp =  max(num1,num2)//min(num1,num2)\n",
    "        if num1 <=num2:\n",
    "            answer = [denum1*tmp+denum2, num2]\n",
    "        else:\n",
    "            answer = [denum2*tmp+denum1, num1]\n",
    "    # 두 수가 배수관계가 아닐때.\n",
    "    else:\n",
    "        answer = [denum2*num1+denum1*num2, num1*num2]\n",
    "    \n",
    "    # 약분되는지 판별\n",
    "    if answer[0]%answer[1] ==0:\n",
    "        x,y = divmod(answer[0],answer[1])\n",
    "        answer[0] = x\n",
    "        answer[1] = y+1\n",
    "    return answer\n",
    "solution(12,20,24,40)"
   ]
  },
  {
   "cell_type": "code",
   "execution_count": 57,
   "id": "a94a52ff",
   "metadata": {},
   "outputs": [
    {
     "data": {
      "text/plain": [
       "[6, 5]"
      ]
     },
     "execution_count": 57,
     "metadata": {},
     "output_type": "execute_result"
    }
   ],
   "source": [
    "# 정확도 통과 (소인수분해)\n",
    "def solution(denum1, num1, denum2, num2):\n",
    "    answer = []\n",
    "    # 두 수가 배수관계일때.\n",
    "    if max(num1,num2)%min(num1,num2)==0:\n",
    "        tmp =  max(num1,num2)//min(num1,num2)\n",
    "        if num1 <=num2:\n",
    "            answer = [denum1*tmp+denum2, num2]\n",
    "        else:\n",
    "            answer = [denum2*tmp+denum1, num1]\n",
    "    # 두 수가 배수관계가 아닐때.\n",
    "    else:\n",
    "        answer = [denum2*num1+denum1*num2, num1*num2]\n",
    "    \n",
    "    # 약분되는지 판별\n",
    "    div = 2\n",
    "    while min(answer[0],answer[1])>=div:\n",
    "        if answer[0]%div==0 and answer[1]%div==0:\n",
    "            answer[0] = answer[0]//div\n",
    "            answer[1] = answer[1]//div\n",
    "        else:\n",
    "            div+=1\n",
    "    return answer\n",
    "\n",
    "solution(12,20,24,40)"
   ]
  }
 ],
 "metadata": {
  "kernelspec": {
   "display_name": "Python 3 (ipykernel)",
   "language": "python",
   "name": "python3"
  },
  "language_info": {
   "codemirror_mode": {
    "name": "ipython",
    "version": 3
   },
   "file_extension": ".py",
   "mimetype": "text/x-python",
   "name": "python",
   "nbconvert_exporter": "python",
   "pygments_lexer": "ipython3",
   "version": "3.9.7"
  },
  "toc": {
   "base_numbering": 1,
   "nav_menu": {},
   "number_sections": true,
   "sideBar": true,
   "skip_h1_title": false,
   "title_cell": "Table of Contents",
   "title_sidebar": "Contents",
   "toc_cell": false,
   "toc_position": {},
   "toc_section_display": true,
   "toc_window_display": false
  }
 },
 "nbformat": 4,
 "nbformat_minor": 5
}
